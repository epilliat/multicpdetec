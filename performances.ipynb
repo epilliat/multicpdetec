{
 "cells": [
  {
   "cell_type": "markdown",
   "metadata": {},
   "source": [
    "# Evaluation of the Performances of a Change-Point Detection Method"
   ]
  },
  {
   "cell_type": "markdown",
   "metadata": {},
   "source": [
    "In this notebook, we generate a piecewise constant times series in dimension $p$ and simulate the procedure defined in the paper [Optimal multiple change-point detection for high-dimensional data](https://arxiv.org/abs/1809.09602)"
   ]
  },
  {
   "cell_type": "code",
   "execution_count": 2,
   "metadata": {},
   "outputs": [],
   "source": [
    "import torch\n",
    "import matplotlib.pyplot as plt\n",
    "import seaborn as sns\n",
    "import plotly.io as pio\n",
    "import plotly.graph_objs as go\n",
    "pio.renderers.default='notebook'\n",
    "#sns.set()\n",
    "import random\n",
    "import numpy as np\n",
    "from torch.nn.functional import conv1d\n",
    "import plotly.express as px\n",
    "from tqdm import tqdm\n",
    "import time\n",
    "\n",
    "import multichange as mc\n",
    "from importlib import reload\n",
    "reload(mc);"
   ]
  },
  {
   "cell_type": "markdown",
   "metadata": {},
   "source": [
    "## Initialization"
   ]
  },
  {
   "cell_type": "markdown",
   "metadata": {},
   "source": [
    "### For the bottom-up procedure"
   ]
  },
  {
   "cell_type": "markdown",
   "metadata": {},
   "source": [
    "The class ChangePointDetector from module multichange instantiates the model for fixed $n$ and $p$. The procedure will compute Cusums for all $r \\in \\{1, 2, 4, 8, \\dots \\}$ and $l \\in [r, n-r)$, rank the coordinates of each Cusum and compute partial norms with the $s$ largest coordinates with $s \\in \\{1, 2, 4, 8, \\dots, \\tfrac{\\sqrt{p \\gamma_r}}{\\log(p) - \\gamma_r}, p\\}$ and $\\gamma_r = \\log(n/r\\delta)$. $s = p$ corresponds to the statistic in the dense regime while smaller $s$ correspond to partial norm statistics.\n",
    "Passing samples=1000, delta=0.05 as an argument means that we initialize the thresholds of the statistics for all $r$ and $s$ so that the maximum for $l \\in [r, n-r)$ of all the partial norms at scale $r$ and sparsity $s$ is above the $(r,s)$-threshold on only $\\delta = 0.05$ percent of the $1000$ samples. Here we only take $100$ samples so that it executes fast, but the experiments are made with $10.000$ samples.\n"
   ]
  },
  {
   "cell_type": "code",
   "execution_count": 4,
   "metadata": {},
   "outputs": [
    {
     "name": "stdout",
     "output_type": "stream",
     "text": [
      "r = 64 ; doing batch 5/5     \r"
     ]
    }
   ],
   "source": [
    "p, n = 100, 200\n",
    "torch.manual_seed(123456)\n",
    "model = mc.ChangePointDetector(p=p, n=n, samples=100, delta=0.05)"
   ]
  },
  {
   "cell_type": "markdown",
   "metadata": {},
   "source": [
    "### For the inspect procedure"
   ]
  },
  {
   "cell_type": "markdown",
   "metadata": {},
   "source": [
    "To compare our method, we import the R package [inspect method](https://github.com/wangtengyao/InspectChangepoint/) with rpy2. To use this method, we compute the threshold with the monte carlo method provided by the function compute_threshold of the R package."
   ]
  },
  {
   "cell_type": "code",
   "execution_count": 5,
   "metadata": {},
   "outputs": [
    {
     "name": "stdout",
     "output_type": "stream",
     "text": [
      "Calculating threshold... "
     ]
    },
    {
     "name": "stderr",
     "output_type": "stream",
     "text": [
      "R[write to console]: Loading required namespace: RSpectra\n",
      "\n"
     ]
    },
    {
     "name": "stdout",
     "output_type": "stream",
     "text": [
      "101112131415161718192021222324252627282930313233343536373839404142434445464748495051525354555657585960616263646566676869707172737475767778798081828384858687888990919293949596979899100%. Threshold = 8.954897 \n"
     ]
    }
   ],
   "source": [
    "import rpy2.robjects as ro\n",
    "import rpy2.robjects.numpy2ri\n",
    "rpy2.robjects.numpy2ri.activate()\n",
    "import numpy as np \n",
    "import rpy2.robjects.packages as rpackages\n",
    "utils = rpackages.importr('utils')\n",
    "insp = rpackages.importr('InspectChangepoint')\n",
    "\n",
    "threshold_insp = insp.compute_threshold(n,p)"
   ]
  },
  {
   "cell_type": "markdown",
   "metadata": {},
   "source": [
    "## Generating a Signal"
   ]
  },
  {
   "cell_type": "markdown",
   "metadata": {},
   "source": [
    "`generate_wcs` is a function that generates a signal that is $0$ outside $[\\tau_1, \\tau_2)$ and $\\Delta$ in $[\\tau_1, \\tau_2)$ of norm 'Norm' and which has exactly $s$ randomly chosen coordinates that have random sign.\n",
    "In the cell bellow, we use `generate_K`, which generates $K$ change-points on random locations with random sparsities in $[1, p]$ and random norm in [MinNorm, MaxNorm]. "
   ]
  },
  {
   "cell_type": "code",
   "execution_count": 6,
   "metadata": {},
   "outputs": [],
   "source": [
    "torch.manual_seed(0)\n",
    "np.random.seed(0)\n",
    "reload(mc)\n",
    "Signals, taustars = mc.generate_K(p, n, MinNorm=1, MaxNorm=10, K = 10, samples=1)\n",
    "Noise = torch.randn((1, p, n))\n",
    "Ys = Signals + Noise"
   ]
  },
  {
   "cell_type": "markdown",
   "metadata": {},
   "source": [
    "Here, exactly 25 coordinates have two change points. The following block represents the first coordinate of the data and signal."
   ]
  },
  {
   "cell_type": "code",
   "execution_count": 12,
   "metadata": {},
   "outputs": [
    {
     "data": {
      "image/png": "[encoded data removed]",
      "text/plain": [
       "<Figure size 432x288 with 1 Axes>"
      ]
     },
     "metadata": {},
     "output_type": "display_data"
    }
   ],
   "source": [
    "import matplotlib.image as mpimg\n",
    "import pandas as pd\n",
    "sns.set()\n",
    "Y = Ys[0]\n",
    "Signal = Signals[0]\n",
    "i = 15\n",
    "fig = go.Figure()\n",
    "x = list(range(n))\n",
    "df = pd.DataFrame({r'$Y$' : Y[i, :], r'$\\Theta$' : Signal[i, :]})\n",
    "df.plot(style=['o', 'o'])\n",
    "plt.show();"
   ]
  },
  {
   "cell_type": "markdown",
   "metadata": {},
   "source": [
    "## Fitting the Method to the Data"
   ]
  },
  {
   "cell_type": "markdown",
   "metadata": {},
   "source": [
    "### For the bottom-up procedure"
   ]
  },
  {
   "cell_type": "markdown",
   "metadata": {},
   "source": [
    "We use the .fit() method of the model to compute the Cusum statistics and apply the bottom up procedure defined in the paper. The corresponding function in the inspect package is the R function inspect. \n",
    "In this high-energy and dense change-points setting, both methods achieve a good detection of the change-points."
   ]
  },
  {
   "cell_type": "code",
   "execution_count": null,
   "metadata": {},
   "outputs": [],
   "source": [
    "model.fit(Ys)\n",
    "taustars.sort()\n",
    "print('Change-points detected at the following positions : tau = ', model.tau)\n",
    "print('True change-points : taustars = ', taustars)\n",
    "print('at following scales : r = ', model.scales)\n",
    "print('and with statistics with following smallest sparsities : s = ', model.sparsities)"
   ]
  },
  {
   "cell_type": "markdown",
   "metadata": {},
   "source": [
    "### For the Inspect Procedure"
   ]
  },
  {
   "cell_type": "code",
   "execution_count": null,
   "metadata": {},
   "outputs": [],
   "source": [
    "try:\n",
    "    tauinsp = insp.inspect(np.array(Ys[0]), threshold = threshold_insp)[1][:, 0]\n",
    "except IndexError:\n",
    "    tauinsp = []\n",
    "print(tauinsp)"
   ]
  },
  {
   "cell_type": "markdown",
   "metadata": {},
   "source": [
    "### Definition of the Loss"
   ]
  },
  {
   "cell_type": "markdown",
   "metadata": {},
   "source": [
    "If $\\{\\tau_1, \\dots, \\tau_K \\}$ are the true change-points and $\\{\\hat{\\tau}_1, \\dots, \\hat {\\tau}_{\\hat{K}}\\}$ the estimated change-points, We compare the two methods with the following quantity:\n",
    "$$\\tfrac{1}{K}\\sum_k \\left| |[(\\tau_k + \\tau_{k-1})/2,(\\tau_k + \\tau_{k+1})/2] \\cap \\{\\hat \\tau_k, k \\in [\\hat K]\\}| - 1\\right| \\enspace ,$$\n",
    "which is the ratio of all spurious change-points plus undetected true change-points over the number of true chagne-points.\\\n",
    "\\\n",
    "One simply checks that this quantity is large if either we estimate too many change-points or if we are too conservative and estimate only a few change-points. \n",
    "\n",
    "The following functions computes the quantity defined above.\n"
   ]
  },
  {
   "cell_type": "code",
   "execution_count": null,
   "metadata": {},
   "outputs": [],
   "source": [
    "def compute_loss(taustars, taus, n):\n",
    "    K = len(taustars)\n",
    "    taustars = np.array([0] + taustars + [n])\n",
    "    taus = np.array(taus)\n",
    "    R = (taustars[1:] - taustars[:-1])/2\n",
    "    numerator = 0\n",
    "    for i in range(K):\n",
    "        ndet = ((taustars[i+1] - R[i] <= taus) & (taus <= taustars[i+1] + R[i+1])).sum()\n",
    "        numerator += np.abs(ndet - 1)\n",
    "    return numerator/K"
   ]
  },
  {
   "cell_type": "code",
   "execution_count": null,
   "metadata": {},
   "outputs": [],
   "source": [
    "print(f'loss of our method : {compute_loss(taustars, model.tau, n):.2f}')\n",
    "print(f'loss of inspect method : {compute_loss(taustars, tauinsp, n):.2f}')"
   ]
  },
  {
   "cell_type": "markdown",
   "metadata": {},
   "source": [
    "## Performances"
   ]
  },
  {
   "cell_type": "markdown",
   "metadata": {},
   "source": [
    "Below are the experiences we talk about in [Optimal multiple change-point detection for high-dimensional data](https://hal.archives-ouvertes.fr/hal-03004860/). Here we set trials=50 so it takes less time to execute for the user."
   ]
  },
  {
   "cell_type": "code",
   "execution_count": null,
   "metadata": {},
   "outputs": [],
   "source": [
    "for s in [1, 20, p]:\n",
    "    r = 20\n",
    "    tau1 = n//3\n",
    "    trials = 50\n",
    "    taustars = [tau1, tau1 + r]\n",
    "    loss = {'bottomup' : [], 'inspect' : []}\n",
    "    loss_squared = {'bottomup' : [], 'inspect' : []}\n",
    "    pdiff = {'bottomup' : [], 'inspect' : []}\n",
    "    N = 100\n",
    "    Norms = [0.5 + i*0.1 for i in range(N)]\n",
    "    for i, norm in enumerate(Norms):\n",
    "        print(f'Doing {trials} trials for step {i+1} / {len(Norms)}           ', end='\\r')\n",
    "        loss_0, loss_squared_0, pdiff_0 = 0, 0, 0\n",
    "        loss_1, loss_squared_1, pdiff_1 = 0, 0, 0\n",
    "        for j in range(trials):\n",
    "            torch.manual_seed(j)\n",
    "            Signals = mc.generate_wcs(p, n, s, Norm=norm, taus=(tau1, tau1+r))\n",
    "            Noise = torch.randn((1, p, n))\n",
    "            Ys = Signals + Noise\n",
    "            model.fit(Ys)\n",
    "            try:\n",
    "                tauinsp = insp.inspect(np.array(Ys[0]), threshold = threshold_insp)[1][:,0]\n",
    "            except IndexError:\n",
    "                tauinsp = []\n",
    "            if len(model.tau) != len(taustars):\n",
    "                pdiff_0 += 1\n",
    "            if len(tauinsp) != len(taustars):\n",
    "                pdiff_1 +=1\n",
    "            l_0 = compute_loss(taustars, model.tau, n)\n",
    "            l_1 = compute_loss(taustars, tauinsp, n)\n",
    "            loss_0 += l_0\n",
    "            loss_1 += l_1\n",
    "            loss_squared_0 += l_0**2\n",
    "            loss_squared_1 += l_1**2\n",
    "    \n",
    "        pdiff['bottomup'].append(pdiff_0/trials)\n",
    "        pdiff['inspect'].append(pdiff_1/trials)\n",
    "        loss['bottomup'].append(loss_0/trials)\n",
    "        loss['inspect'].append(loss_1/trials)\n",
    "        loss_squared['bottomup'].append(loss_squared_0/trials)\n",
    "        loss_squared['inspect'].append(loss_squared_1/trials)\n",
    "    import pandas as pd\n",
    "    \n",
    "    pdiff[\"bottomup\"] = pd.Series(pdiff[\"bottomup\"], index=Norms)\n",
    "    pdiff[\"inspect\"] = pd.Series(pdiff[\"inspect\"], index=Norms)\n",
    "    loss[\"bottomup\"] = pd.Series(loss[\"bottomup\"], index=Norms)\n",
    "    loss[\"inspect\"] = pd.Series(loss[\"inspect\"], index=Norms)\n",
    "    df = pd.DataFrame(\n",
    "        {\n",
    "            \"pdiff_bottomup\": pdiff[\"bottomup\"],\n",
    "            \"pdiff_inspect\": pdiff[\"inspect\"],\n",
    "            \"loss_bottomup\": loss[\"bottomup\"],\n",
    "            \"loss_inspect\": loss[\"inspect\"],\n",
    "            \"confidence_bound_bottomup\": 1.96*((pdiff['bottomup'])*(1-pdiff['bottomup'])/trials)**(1/2),\n",
    "            \"confidence_bound_inspect\": 1.96*((pdiff['inspect'])*(1-pdiff['inspect'])/trials)**(1/2),\n",
    "            \"sigma_loss_bottomup\" : (loss_squared[\"bottomup\"] - loss[\"bottomup\"]**2)**(1/2),\n",
    "            \"sigma_loss_inspect\" : (loss_squared[\"inspect\"] - loss[\"inspect\"]**2)**(1/2),\n",
    "            \"sigma_pdiff_bottomup\" : (pdiff[\"bottomup\"] - pdiff[\"bottomup\"]**2)**(1/2),\n",
    "            \"sigma_pdiff_inspect\" : (pdiff[\"inspect\"] - pdiff[\"inspect\"]**2)**(1/2)\n",
    "        }\n",
    "    )\n",
    "    df.to_csv(f\"./n{n}_p{p}_s{s}_r{r}_trials{trials}.csv\")\n",
    "    "
   ]
  },
  {
   "cell_type": "code",
   "execution_count": null,
   "metadata": {},
   "outputs": [],
   "source": [
    "import pandas as pd\n",
    "\n",
    "pdiff[\"bottomup\"] = pd.Series(pdiff[\"bottomup\"], index=Norms)\n",
    "pdiff[\"inspect\"] = pd.Series(pdiff[\"inspect\"], index=Norms)\n",
    "loss[\"bottomup\"] = pd.Series(loss[\"bottomup\"], index=Norms)\n",
    "loss[\"inspect\"] = pd.Series(loss[\"inspect\"], index=Norms)\n",
    "df = pd.DataFrame(\n",
    "    {\n",
    "        \"pdiff_bottomup\": pdiff[\"bottomup\"],\n",
    "        \"pdiff_inspect\": pdiff[\"inspect\"],\n",
    "        \"loss_bottomup\": loss[\"bottomup\"],\n",
    "        \"loss_inspect\": loss[\"inspect\"],\n",
    "        \"confidence_bound_bottomup\": 1.96*((pdiff['bottomup'])*(1-pdiff['bottomup'])/500)**(1/2),\n",
    "        \"confidence_bound_inspect\": 1.96*((pdiff['inspect'])*(1-pdiff['inspect'])/500)**(1/2),\n",
    "        \"sigma_loss_bottomup\" : (loss_squared[\"bottomup\"] - loss[\"bottomup\"]**2)**(1/2),\n",
    "        \"sigma_loss_inspect\" : (loss_squared[\"inspect\"] - loss[\"inspect\"]**2)**(1/2),\n",
    "        \"sigma_pdiff_bottomup\" : (pdiff[\"bottomup\"] - pdiff[\"bottomup\"]**2)**(1/2),\n",
    "        \"sigma_pdiff_inspect\" : (pdiff[\"inspect\"] - pdiff[\"inspect\"]**2)**(1/2)\n",
    "    }\n",
    ")\n",
    "df.to_csv(f\"./n{n}_p{p}_s{s}_r{r}_trials{trials}.csv\")"
   ]
  },
  {
   "cell_type": "code",
   "execution_count": null,
   "metadata": {},
   "outputs": [],
   "source": [
    "reload(mc)\n",
    "s = p\n",
    "trials = 50\n",
    "loss = {'bottomup' : [], 'inspect' : []}\n",
    "loss_squared = {'bottomup' : [], 'inspect' : []}\n",
    "pdiff = {'bottomup' : [], 'inspect' : []}\n",
    "N = 200\n",
    "Norms = [0.1 + i*0.05 for i in range(N)]\n",
    "torch.manual_seed(0)\n",
    "np.random.seed(0)\n",
    "Signals, taustars = mc.generate_K(p, n, 1, 5, K=10)\n",
    "print(taustars)\n",
    "for i, norm in enumerate(Norms):\n",
    "    print(f'Doing {trials} trials for step {i+1} / {len(Norms)}           ', end='\\r')\n",
    "    loss_0, loss_squared_0, pdiff_0 = 0, 0, 0\n",
    "    loss_1, loss_squared_1, pdiff_1 = 0, 0, 0\n",
    "    for j in range(trials):\n",
    "        torch.manual_seed(j)\n",
    "        Noise = torch.randn((1, p, n))\n",
    "        Ys = norm*Signals + Noise\n",
    "        model.fit(Ys)\n",
    "        try:\n",
    "            tauinsp = insp.inspect(np.array(Ys[0]), threshold = threshold_insp)[1][:,0]\n",
    "        except IndexError:\n",
    "            tauinsp = []\n",
    "        if len(model.tau) != len(taustars):\n",
    "            pdiff_0 += 1\n",
    "        if len(tauinsp) != len(taustars):\n",
    "            pdiff_1 +=1\n",
    "        l_0 = compute_loss(taustars, model.tau, n)\n",
    "        l_1 = compute_loss(taustars, tauinsp, n)\n",
    "        loss_0 += l_0\n",
    "        loss_1 += l_1\n",
    "        loss_squared_0 += l_0**2\n",
    "        loss_squared_1 += l_1**2\n",
    "\n",
    "    pdiff['bottomup'].append(pdiff_0/trials)\n",
    "    pdiff['inspect'].append(pdiff_1/trials)\n",
    "    loss['bottomup'].append(loss_0/trials)\n",
    "    loss['inspect'].append(loss_1/trials)\n",
    "    loss_squared['bottomup'].append(loss_squared_0/trials)\n",
    "    loss_squared['inspect'].append(loss_squared_1/trials)\n"
   ]
  },
  {
   "cell_type": "code",
   "execution_count": null,
   "metadata": {},
   "outputs": [],
   "source": [
    "import pandas as pd\n",
    "\n",
    "pdiff[\"bottomup\"] = pd.Series(pdiff[\"bottomup\"], index=Norms)\n",
    "pdiff[\"inspect\"] = pd.Series(pdiff[\"inspect\"], index=Norms)\n",
    "loss[\"bottomup\"] = pd.Series(loss[\"bottomup\"], index=Norms)\n",
    "loss[\"inspect\"] = pd.Series(loss[\"inspect\"], index=Norms)\n",
    "df = pd.DataFrame(\n",
    "    {\n",
    "        \"pdiff_bottomup\": pdiff[\"bottomup\"],\n",
    "        \"pdiff_inspect\": pdiff[\"inspect\"],\n",
    "        \"loss_bottomup\": loss[\"bottomup\"],\n",
    "        \"loss_inspect\": loss[\"inspect\"],\n",
    "        \"confidence_bound_bottomup\": 1.96*((pdiff['bottomup'])*(1-pdiff['bottomup'])/500)**(1/2),\n",
    "        \"confidence_bound_inspect\": 1.96*((pdiff['inspect'])*(1-pdiff['inspect'])/500)**(1/2),\n",
    "        \"sigma_loss_bottomup\" : (loss_squared[\"bottomup\"] - loss[\"bottomup\"]**2)**(1/2),\n",
    "        \"sigma_loss_inspect\" : (loss_squared[\"inspect\"] - loss[\"inspect\"]**2)**(1/2),\n",
    "        \"sigma_pdiff_bottomup\" : (pdiff[\"bottomup\"] - pdiff[\"bottomup\"]**2)**(1/2),\n",
    "        \"sigma_pdiff_inspect\" : (pdiff[\"inspect\"] - pdiff[\"inspect\"]**2)**(1/2)\n",
    "    }\n",
    ")\n",
    "df.to_csv(f\"./K{10}_n{n}_p{p}_trials{trials}.csv\")"
   ]
  },
  {
   "cell_type": "markdown",
   "metadata": {},
   "source": [
    "## Running times"
   ]
  },
  {
   "cell_type": "code",
   "execution_count": null,
   "metadata": {},
   "outputs": [],
   "source": [
    "import time\n",
    "for s in [20]:\n",
    "    r = 20\n",
    "    tau1 = n//3\n",
    "    trials = 500\n",
    "    dt_insp=0\n",
    "    dt_insp_sq=0\n",
    "    dt_bottomup = 0\n",
    "    dt_bottomup_sq = 0\n",
    "    taustars = [tau1, tau1 + r]\n",
    "    runtime = {'bottomup' : [], 'inspect' : []}\n",
    "    N = 1\n",
    "    Norms = [0 for i in range(N)]\n",
    "    for i, norm in enumerate(Norms):\n",
    "        print(f'Doing {trials} trials for step {i+1} / {len(Norms)}           ', end='\\r')\n",
    "        loss_0, loss_squared_0, pdiff_0 = 0, 0, 0\n",
    "        loss_1, loss_squared_1, pdiff_1 = 0, 0, 0\n",
    "        for j in range(trials):\n",
    "            torch.manual_seed(j)\n",
    "            Signals = mc.generate_wcs(p, n, s, Norm=norm, taus=(tau1, tau1+r))\n",
    "            Noise = torch.randn((1, p, n))\n",
    "            Ys = Signals + Noise\n",
    "\n",
    "            t_bottomup = time.time()\n",
    "            model.fit(Ys)\n",
    "            dt_bottomup += time.time() - t_bottomup\n",
    "            dt_bottomup_sq += (time.time() - t_bottomup)**2\n",
    "            t_insp = time.time()\n",
    "            try:\n",
    "                tauinsp = insp.inspect(np.array(Ys[0]), threshold = threshold_insp)[1][:,0]\n",
    "            except IndexError:\n",
    "                tauinsp = []\n",
    "            dt_insp += time.time() - t_insp\n",
    "            dt_insp_sq += (time.time() - t_insp)**2\n"
   ]
  },
  {
   "cell_type": "code",
   "execution_count": null,
   "metadata": {},
   "outputs": [],
   "source": [
    "dt_bottomup_sigma = np.sqrt(dt_bottomup_sq/trials - (dt_bottomup/trials)**2)/np.sqrt(500)\n",
    "dt_insp_sigma = np.sqrt(dt_insp_sq/trials - (dt_insp/trials)**2)/np.sqrt(500)\n",
    "print(f'bottomup : {dt_bottomup/trials} +- {dt_bottomup_sigma} ; inspect : {dt_insp/trials} +- {dt_insp_sigma}')"
   ]
  },
  {
   "cell_type": "markdown",
   "metadata": {},
   "source": [
    "## Time dependent setting"
   ]
  },
  {
   "cell_type": "code",
   "execution_count": null,
   "metadata": {},
   "outputs": [],
   "source": [
    "for s in [20]:\n",
    "    r = 20\n",
    "    rho = 0.05\n",
    "    tau1 = n//3\n",
    "    trials = 500\n",
    "    taustars = [tau1, tau1 + r]\n",
    "    loss = {'bottomup' : [], 'inspect' : []}\n",
    "    loss_squared = {'bottomup' : [], 'inspect' : []}\n",
    "    pdiff = {'bottomup' : [], 'inspect' : []}\n",
    "    N = 100\n",
    "    Norms = [0.5 + i*0.1 for i in range(N)]\n",
    "    for i, norm in enumerate(Norms):\n",
    "        print(f'Doing {trials} trials for step {i+1} / {len(Norms)}           ', end='\\r')\n",
    "        loss_0, loss_squared_0, pdiff_0 = 0, 0, 0\n",
    "        loss_1, loss_squared_1, pdiff_1 = 0, 0, 0\n",
    "        for j in range(trials):\n",
    "            torch.manual_seed(j)\n",
    "            Signals = mc.generate_wcs(p, n, s, Norm=norm, taus=(tau1, tau1+r))\n",
    "            Noise = torch.randn((1, p, n))\n",
    "            for t in range(1,n):\n",
    "                Noise[0, :, t] = rho*Noise[0, :, t-1] + np.sqrt(1 - rho**2)*Noise[0, :, t]\n",
    "            Ys = Signals + Noise\n",
    "            model.fit(Ys)\n",
    "            try:\n",
    "                tauinsp = insp.inspect(np.array(Ys[0]), threshold = threshold_insp)[1][:,0]\n",
    "            except IndexError:\n",
    "                tauinsp = []\n",
    "            if len(model.tau) != len(taustars):\n",
    "                pdiff_0 += 1\n",
    "            if len(tauinsp) != len(taustars):\n",
    "                pdiff_1 +=1\n",
    "            l_0 = compute_loss(taustars, model.tau, n)\n",
    "            l_1 = compute_loss(taustars, tauinsp, n)\n",
    "            loss_0 += l_0\n",
    "            loss_1 += l_1\n",
    "            loss_squared_0 += l_0**2\n",
    "            loss_squared_1 += l_1**2\n",
    "    \n",
    "        pdiff['bottomup'].append(pdiff_0/trials)\n",
    "        pdiff['inspect'].append(pdiff_1/trials)\n",
    "        loss['bottomup'].append(loss_0/trials)\n",
    "        loss['inspect'].append(loss_1/trials)\n",
    "        loss_squared['bottomup'].append(loss_squared_0/trials)\n",
    "        loss_squared['inspect'].append(loss_squared_1/trials)\n",
    "    import pandas as pd\n",
    "    \n",
    "    pdiff[\"bottomup\"] = pd.Series(pdiff[\"bottomup\"], index=Norms)\n",
    "    pdiff[\"inspect\"] = pd.Series(pdiff[\"inspect\"], index=Norms)\n",
    "    loss[\"bottomup\"] = pd.Series(loss[\"bottomup\"], index=Norms)\n",
    "    loss[\"inspect\"] = pd.Series(loss[\"inspect\"], index=Norms)\n",
    "    df = pd.DataFrame(\n",
    "        {\n",
    "            \"pdiff_bottomup\": pdiff[\"bottomup\"],\n",
    "            \"pdiff_inspect\": pdiff[\"inspect\"],\n",
    "            \"loss_bottomup\": loss[\"bottomup\"],\n",
    "            \"loss_inspect\": loss[\"inspect\"],\n",
    "            \"confidence_bound_bottomup\": 1.96*((pdiff['bottomup'])*(1-pdiff['bottomup'])/500)**(1/2),\n",
    "            \"confidence_bound_inspect\": 1.96*((pdiff['inspect'])*(1-pdiff['inspect'])/500)**(1/2),\n",
    "            \"sigma_loss_bottomup\" : (loss_squared[\"bottomup\"] - loss[\"bottomup\"]**2)**(1/2),\n",
    "            \"sigma_loss_inspect\" : (loss_squared[\"inspect\"] - loss[\"inspect\"]**2)**(1/2),\n",
    "            \"sigma_pdiff_bottomup\" : (pdiff[\"bottomup\"] - pdiff[\"bottomup\"]**2)**(1/2),\n",
    "            \"sigma_pdiff_inspect\" : (pdiff[\"inspect\"] - pdiff[\"inspect\"]**2)**(1/2)\n",
    "        }\n",
    "    )\n",
    "    df.to_csv(f\"./time_dependent_s{s}_rho{int(100*rho)}_trials{trials}.csv\")\n",
    "    "
   ]
  }
 ],
 "metadata": {
  "kernelspec": {
   "display_name": "Python 3.9.7 ('em')",
   "language": "python",
   "name": "python3"
  },
  "language_info": {
   "codemirror_mode": {
    "name": "ipython",
    "version": 3
   },
   "file_extension": ".py",
   "mimetype": "text/x-python",
   "name": "python",
   "nbconvert_exporter": "python",
   "pygments_lexer": "ipython3",
   "version": "3.9.7"
  },
  "orig_nbformat": 4,
  "vscode": {
   "interpreter": {
    "hash": "2df3c58bc0844e5a42d27e76da2fb645b9af260e81db40b52b0ed257377a2753"
   }
  }
 },
 "nbformat": 4,
 "nbformat_minor": 2
}
